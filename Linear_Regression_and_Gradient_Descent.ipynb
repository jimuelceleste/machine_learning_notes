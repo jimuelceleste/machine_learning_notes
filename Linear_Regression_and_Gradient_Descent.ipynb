{
  "nbformat": 4,
  "nbformat_minor": 0,
  "metadata": {
    "colab": {
      "provenance": [],
      "authorship_tag": "ABX9TyMtYQLn/S98iqzDxXwkMGJY",
      "include_colab_link": true
    },
    "kernelspec": {
      "name": "python3",
      "display_name": "Python 3"
    },
    "language_info": {
      "name": "python"
    }
  },
  "cells": [
    {
      "cell_type": "markdown",
      "metadata": {
        "id": "view-in-github",
        "colab_type": "text"
      },
      "source": [
        "<a href=\"https://colab.research.google.com/github/jimuelceleste/machine_learning_notes/blob/main/Linear_Regression_and_Gradient_Descent.ipynb\" target=\"_parent\"><img src=\"https://colab.research.google.com/assets/colab-badge.svg\" alt=\"Open In Colab\"/></a>"
      ]
    },
    {
      "cell_type": "markdown",
      "source": [
        "# Linear Regression\n",
        "\n",
        "Objective: Fit data ($(x^{(i)}, y^{(i)})$ where $i=1,...,n$) with the linear model.\n",
        "\n",
        "$$ minimize \\frac{1}{n} \\sum_{i=1}^n (y_\\theta^{(i)} - y^{(i)})^2 $$\n",
        "\n",
        "Approaches: \n",
        "1. Statistics\n",
        "2. Optimization with Gradient Descent"
      ],
      "metadata": {
        "id": "79PGU7bZvEvT"
      }
    },
    {
      "cell_type": "markdown",
      "source": [
        "## Linear Model\n",
        "\n",
        "$y = \\theta_1 + \\theta_2 x$ where $y$ is the target variable and $x$ is the predictor; $\\theta_1$ (intercept) and $\\theta_2$ (slope) are the parameters"
      ],
      "metadata": {
        "id": "a9VFyaZVwJzn"
      }
    },
    {
      "cell_type": "code",
      "source": [
        "import numpy as np\n",
        "import matplotlib.pyplot as plt\n",
        "from scipy.stats import pearsonr\n",
        "import math\n",
        "from sklearn.linear_model import LinearRegression"
      ],
      "metadata": {
        "id": "28u9jsyyv2jU"
      },
      "execution_count": 1,
      "outputs": []
    },
    {
      "cell_type": "code",
      "execution_count": 2,
      "metadata": {
        "id": "MM2wY5O6u0bj"
      },
      "outputs": [],
      "source": [
        "# the linear model\n",
        "def get_model(theta1, theta2):\n",
        "    def model(x):\n",
        "        return theta1 + theta2 * x\n",
        "    return model "
      ]
    },
    {
      "cell_type": "code",
      "source": [
        "# model\n",
        "theta1 = 1\n",
        "theta2 = 2\n",
        "model = get_model(theta1, theta2)\n",
        "\n",
        "# predictor \n",
        "x = np.arange(10)\n",
        "\n",
        "# target \n",
        "y = model(x)\n",
        "\n",
        "print(x, y)\n",
        "plt.plot(x, y)"
      ],
      "metadata": {
        "colab": {
          "base_uri": "https://localhost:8080/",
          "height": 301
        },
        "id": "G4Ln7dsAvdU-",
        "outputId": "e952bb80-d164-4913-b85c-957078344a6a"
      },
      "execution_count": 3,
      "outputs": [
        {
          "output_type": "stream",
          "name": "stdout",
          "text": [
            "[0 1 2 3 4 5 6 7 8 9] [ 1  3  5  7  9 11 13 15 17 19]\n"
          ]
        },
        {
          "output_type": "execute_result",
          "data": {
            "text/plain": [
              "[<matplotlib.lines.Line2D at 0x7f1e47103520>]"
            ]
          },
          "metadata": {},
          "execution_count": 3
        },
        {
          "output_type": "display_data",
          "data": {
            "text/plain": [
              "<Figure size 432x288 with 1 Axes>"
            ],
            "image/png": "[encoded data removed]"
          },
          "metadata": {
            "needs_background": "light"
          }
        }
      ]
    },
    {
      "cell_type": "markdown",
      "source": [
        "## Cost Function (J): Mean Squared Error \n",
        "$J(\\theta_1, \\theta_2) = \\frac{1}{n} \\sum_{i=1}^n (y_\\theta^{(i)} - y^{(i)})^2$ where n is the size of the dataset, $y_\\theta$ is the hypothesis function, $y$ is the target data, $i$ is the ith element. \n"
      ],
      "metadata": {
        "id": "I0IA-Kf6xM6O"
      }
    },
    {
      "cell_type": "code",
      "source": [
        "def mse(predicted, y, n):\n",
        "    return sum((predicted-y)**2) / n"
      ],
      "metadata": {
        "id": "UUW435gYv7xk"
      },
      "execution_count": 4,
      "outputs": []
    },
    {
      "cell_type": "markdown",
      "source": [
        "## Synthetic Data\n",
        "\n"
      ],
      "metadata": {
        "id": "KiVakhXfV_Tw"
      }
    },
    {
      "cell_type": "code",
      "source": [
        "# synthetic data\n",
        "n = len(x)\n",
        "noise = np.random.random([n])\n",
        "intensity = 10\n",
        "y_noisy = y + noise * intensity\n",
        "\n",
        "plt.scatter(x, y_noisy)"
      ],
      "metadata": {
        "colab": {
          "base_uri": "https://localhost:8080/",
          "height": 283
        },
        "id": "U_3S_SgZzQVT",
        "outputId": "e7bd0d17-4b98-41e1-e647-e5440953f672"
      },
      "execution_count": 5,
      "outputs": [
        {
          "output_type": "execute_result",
          "data": {
            "text/plain": [
              "<matplotlib.collections.PathCollection at 0x7f1e46bcdeb0>"
            ]
          },
          "metadata": {},
          "execution_count": 5
        },
        {
          "output_type": "display_data",
          "data": {
            "text/plain": [
              "<Figure size 432x288 with 1 Axes>"
            ],
            "image/png": "[encoded data removed]"
          },
          "metadata": {
            "needs_background": "light"
          }
        }
      ]
    },
    {
      "cell_type": "markdown",
      "source": [
        "## Approach 1: Statistics \n",
        "\n",
        "Read: [Linear regression and gradient descent for absolute beginners](https://towardsdatascience.com/linear-regression-and-gradient-descent-for-absolute-beginners-eef9574eadb0#:~:text=in%20linear%20regression.-,Gradient%20descent%20is%20an%20algorithm%20that%20approaches%20the%20least%20squared,one%20set%20of%20x%20values)\n",
        "\n",
        "We can use statistics (standard deviation, mean, correlation coefficient) to estimate the parameters of a linear model to fit a dataset: $\\theta_2 = r \\frac{STD(y)}{STD(x)} $ where $r$ is the correlation coefficient between x and y and SD is the standard deviation. "
      ],
      "metadata": {
        "id": "tiPurQPp-M37"
      }
    },
    {
      "cell_type": "code",
      "source": [
        "# Demonstrating this for the same dataset above: noisy y \n",
        "std_x = np.std(x) \n",
        "std_y_noisy = np.std(y_noisy) \n",
        "r,_ = pearsonr(x, y_noisy)\n",
        "theta2_estimate = r * (std_y_noisy / std_x)\n",
        "print(std_x, std_y_noisy, r, theta2_estimate)"
      ],
      "metadata": {
        "colab": {
          "base_uri": "https://localhost:8080/"
        },
        "id": "skPMk65m_KwA",
        "outputId": "ee428bd4-8392-4956-8dd3-0709b290fdee"
      },
      "execution_count": 6,
      "outputs": [
        {
          "output_type": "stream",
          "name": "stdout",
          "text": [
            "2.8722813232690143 5.209202566865254 0.9042415872274471 1.6399429815915565\n"
          ]
        }
      ]
    },
    {
      "cell_type": "markdown",
      "source": [
        "$\\Rightarrow y = \\theta_1 + 1.64 x$\n",
        "\n",
        "What is $\\theta1$? \"We know that the regression line crosses the point of averages, so one point on the line is (average of x values, average of y values) ([Source](https://towardsdatascience.com/linear-regression-and-gradient-descent-for-absolute-beginners-eef9574eadb0#:~:text=in%20linear%20regression.-,Gradient%20descent%20is%20an%20algorithm%20that%20approaches%20the%20least%20squared,one%20set%20of%20x%20values)).\"\n",
        "\n",
        "$\\theta_1 = y - 1.64 x$"
      ],
      "metadata": {
        "id": "D25kgAEdAPPV"
      }
    },
    {
      "cell_type": "code",
      "source": [
        "mean_x = np.mean(x)\n",
        "mean_y_noisy = np.mean(y_noisy)\n",
        "theta1_estimate = mean_y_noisy - theta2_estimate * mean_x\n",
        "print(mean_x, mean_y_noisy, theta1_estimate)"
      ],
      "metadata": {
        "colab": {
          "base_uri": "https://localhost:8080/"
        },
        "id": "HCOG23cvBsp9",
        "outputId": "8ff1adca-fd50-44bb-8690-0dd27410230e"
      },
      "execution_count": 8,
      "outputs": [
        {
          "output_type": "stream",
          "name": "stdout",
          "text": [
            "4.5 16.559896694573514 9.18015327741151\n"
          ]
        }
      ]
    },
    {
      "cell_type": "markdown",
      "source": [
        "$\\Rightarrow y = 9.18 + 1.64 x$"
      ],
      "metadata": {
        "id": "BKM3ShnZB-GI"
      }
    },
    {
      "cell_type": "code",
      "source": [
        "# model\n",
        "model_pred = get_model(theta1_estimate, theta2_estimate)\n",
        "\n",
        "# predictor \n",
        "x = np.arange(10)\n",
        "\n",
        "# target \n",
        "y_pred = model_pred(x)\n",
        "\n",
        "print(\"theta1, theta2 =\", theta1_estimate, theta2_estimate)\n",
        "plt.plot(x, y_pred, '-', label='fitted model')\n",
        "plt.plot(x, y_noisy, 'o', label='data')\n",
        "plt.legend()"
      ],
      "metadata": {
        "colab": {
          "base_uri": "https://localhost:8080/",
          "height": 301
        },
        "id": "J_dY_LxhCxU_",
        "outputId": "ab6c776c-2c77-468a-f09c-aacf33efe5f0"
      },
      "execution_count": 9,
      "outputs": [
        {
          "output_type": "stream",
          "name": "stdout",
          "text": [
            "theta1, theta2 = 9.18015327741151 1.6399429815915565\n"
          ]
        },
        {
          "output_type": "execute_result",
          "data": {
            "text/plain": [
              "<matplotlib.legend.Legend at 0x7f1e46bbde80>"
            ]
          },
          "metadata": {},
          "execution_count": 9
        },
        {
          "output_type": "display_data",
          "data": {
            "text/plain": [
              "<Figure size 432x288 with 1 Axes>"
            ],
            "image/png": "[encoded data removed]"
          },
          "metadata": {
            "needs_background": "light"
          }
        }
      ]
    },
    {
      "cell_type": "code",
      "source": [
        "# MSE\n",
        "print(\"Cost, MSE:\", mse(y_pred, y_noisy, n))\n",
        "print(\"RMSE:\", mse(y_pred, y_noisy, n) ** (1/2))"
      ],
      "metadata": {
        "colab": {
          "base_uri": "https://localhost:8080/"
        },
        "id": "DvQlbhtdDdt3",
        "outputId": "61430cac-5329-4d97-e000-3fa3301f8b91"
      },
      "execution_count": 10,
      "outputs": [
        {
          "output_type": "stream",
          "name": "stdout",
          "text": [
            "Cost, MSE: 4.948134273946462\n",
            "RMSE: 2.2244402158625127\n"
          ]
        }
      ]
    },
    {
      "cell_type": "markdown",
      "source": [
        "## Approach 2: Gradient Descent\n",
        "\n",
        "$ \\theta_{new} = \\theta_{old} - \\alpha \\nabla F(\\theta_{old})$\n",
        "\n",
        "1. Guess $\\theta$ \n",
        "2. Compute cost $J$ \n",
        "3. Update $\\theta$ \n",
        "    - $\\theta_{1\\ new} = \\theta_{1\\ old} - \\alpha (\\frac{1}{m}) \\sum_{i=1}^m (h_{\\theta}(x^{(i)})- y^{(i)})$\n",
        "    -  $\\theta_{2\\ new} = \\theta_{2\\ old} - \\alpha (\\frac{1}{m}) \\sum_{i=1}^m (h_{\\theta}(x^{(i)})- y^{(i)}) (x^{(i)})$\n",
        "4. Repeat 2 and 3 until convergence "
      ],
      "metadata": {
        "id": "hYmErzRu2r0h"
      }
    },
    {
      "cell_type": "code",
      "source": [
        "# initial guess\n",
        "theta1 = 0 \n",
        "theta2 = 1\n",
        "model = get_model(theta1, theta2)\n",
        "\n",
        "# cost: largest number in Python \n",
        "cost = math.inf\n",
        "cost_list = [cost]\n",
        "\n",
        "# step size (alpha), tolerance (defines convergence)\n",
        "step_size = 0.01\n",
        "tolerance = 0.0001 # 3 decimal points\n",
        "convergence = False\n",
        "\n",
        "while not convergence: \n",
        "    new_cost = mse(model(x), y_noisy, n)\n",
        "        \n",
        "    if np.abs(new_cost - cost) <= tolerance: \n",
        "        convergence = True\n",
        "    else: \n",
        "        cost = new_cost \n",
        "        theta1 = theta1 - step_size * (1 / n) * np.sum(model(x) - y_noisy)\n",
        "        theta2 = theta2 - step_size * (1 / n) * np.sum((model(x) - y_noisy) * x)\n",
        "        model = get_model(theta1, theta2)\n",
        "\n",
        "    cost_list.append(cost)\n",
        "\n",
        "print(\"iterations before convergence:\", len(cost_list))\n",
        "print(\"theta1, theta2 =\", [theta1, theta2])\n",
        "print(\"Cost, MSE:\", mse(model(x), y_noisy, n))\n",
        "print(\"RMSE:\", mse(model(x), y_noisy, n) ** (1/2))\n",
        "\n",
        "plt.title(\"Cost\")\n",
        "plt.xlabel(\"iteration\")\n",
        "plt.ylabel(\"cost\")\n",
        "plt.plot(np.arange(len(cost_list)), cost_list)"
      ],
      "metadata": {
        "colab": {
          "base_uri": "https://localhost:8080/",
          "height": 384
        },
        "id": "d6z4KObi74wk",
        "outputId": "700851fc-6c89-4649-8fec-431e1c1862f2"
      },
      "execution_count": 12,
      "outputs": [
        {
          "output_type": "stream",
          "name": "stdout",
          "text": [
            "iterations before convergence: 1269\n",
            "theta1, theta2 = [8.93401404489383, 1.6791959698539898]\n",
            "Cost, MSE: 4.965676209081013\n",
            "RMSE: 2.2283797273088384\n"
          ]
        },
        {
          "output_type": "execute_result",
          "data": {
            "text/plain": [
              "[<matplotlib.lines.Line2D at 0x7f1e46018b80>]"
            ]
          },
          "metadata": {},
          "execution_count": 12
        },
        {
          "output_type": "display_data",
          "data": {
            "text/plain": [
              "<Figure size 432x288 with 1 Axes>"
            ],
            "image/png": "[encoded data removed]"
          },
          "metadata": {
            "needs_background": "light"
          }
        }
      ]
    },
    {
      "cell_type": "code",
      "source": [
        "y_pred = model(x)\n",
        "\n",
        "plt.plot(x, y_pred, '-', label='fitted model')\n",
        "plt.plot(x, y_noisy, 'o', label='data')\n",
        "plt.legend()"
      ],
      "metadata": {
        "colab": {
          "base_uri": "https://localhost:8080/",
          "height": 283
        },
        "id": "m8rQ8QGFTKoG",
        "outputId": "c72e736b-7e11-44c6-dfb7-ffe32d3ec8a8"
      },
      "execution_count": 13,
      "outputs": [
        {
          "output_type": "execute_result",
          "data": {
            "text/plain": [
              "<matplotlib.legend.Legend at 0x7f1e45fe8610>"
            ]
          },
          "metadata": {},
          "execution_count": 13
        },
        {
          "output_type": "display_data",
          "data": {
            "text/plain": [
              "<Figure size 432x288 with 1 Axes>"
            ],
            "image/png": "[encoded data removed]"
          },
          "metadata": {
            "needs_background": "light"
          }
        }
      ]
    },
    {
      "cell_type": "markdown",
      "source": [
        "## Linear Regression with scikit-learn\n",
        "\n",
        "Class: [sklearn.linear_model.LinearRegression ](https://scikit-learn.org/stable/modules/generated/sklearn.linear_model.LinearRegression.html)\n",
        "\n",
        "Fitting Method: LinearRegression().fit(X, y) where X is the training data and y is the target values."
      ],
      "metadata": {
        "id": "cl9vfSmUNVEW"
      }
    },
    {
      "cell_type": "code",
      "source": [
        "model_sklearn = LinearRegression().fit(x.reshape(-1, 1), y_noisy)\n",
        "model_sklearn.score(x.reshape(-1, 1), y_noisy)"
      ],
      "metadata": {
        "colab": {
          "base_uri": "https://localhost:8080/"
        },
        "id": "sfcYyIYMNUMV",
        "outputId": "0a240972-8b4e-4993-f163-32b278604ad9"
      },
      "execution_count": 18,
      "outputs": [
        {
          "output_type": "execute_result",
          "data": {
            "text/plain": [
              "0.8176528480716129"
            ]
          },
          "metadata": {},
          "execution_count": 18
        }
      ]
    },
    {
      "cell_type": "code",
      "source": [
        "print(model_sklearn.coef_, model_sklearn.intercept_)"
      ],
      "metadata": {
        "colab": {
          "base_uri": "https://localhost:8080/"
        },
        "id": "kaGK_9IYNkJF",
        "outputId": "7c1deef7-3bd2-4f60-f513-0271b2da8ce6"
      },
      "execution_count": 19,
      "outputs": [
        {
          "output_type": "stream",
          "name": "stdout",
          "text": [
            "[1.63994298] 9.180153277411508\n"
          ]
        }
      ]
    },
    {
      "cell_type": "code",
      "source": [
        "y_pred = model_sklearn.predict(x.reshape(-1, 1))\n",
        "y_pred"
      ],
      "metadata": {
        "colab": {
          "base_uri": "https://localhost:8080/"
        },
        "id": "BcJ7t2ApNzlb",
        "outputId": "2046dd18-991c-442d-dd60-fa02c4059dd8"
      },
      "execution_count": 21,
      "outputs": [
        {
          "output_type": "execute_result",
          "data": {
            "text/plain": [
              "array([ 9.18015328, 10.82009626, 12.46003924, 14.09998222, 15.7399252 ,\n",
              "       17.37986819, 19.01981117, 20.65975415, 22.29969713, 23.93964011])"
            ]
          },
          "metadata": {},
          "execution_count": 21
        }
      ]
    },
    {
      "cell_type": "code",
      "source": [
        "plt.plot(x, y_pred, '-', label='fitted model')\n",
        "plt.plot(x, y_noisy, 'o', label='data')\n",
        "plt.legend()"
      ],
      "metadata": {
        "colab": {
          "base_uri": "https://localhost:8080/",
          "height": 283
        },
        "id": "jhCq7QH7O29L",
        "outputId": "28daf9da-e1bd-4fe6-d3a3-118ffd5adb05"
      },
      "execution_count": 22,
      "outputs": [
        {
          "output_type": "execute_result",
          "data": {
            "text/plain": [
              "<matplotlib.legend.Legend at 0x7f1e45d27610>"
            ]
          },
          "metadata": {},
          "execution_count": 22
        },
        {
          "output_type": "display_data",
          "data": {
            "text/plain": [
              "<Figure size 432x288 with 1 Axes>"
            ],
            "image/png": "[encoded data removed]"
          },
          "metadata": {
            "needs_background": "light"
          }
        }
      ]
    }
  ]
}